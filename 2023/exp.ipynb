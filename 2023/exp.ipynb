{
 "cells": [
  {
   "cell_type": "code",
   "execution_count": 62,
   "metadata": {},
   "outputs": [],
   "source": [
    "i = \"\"\"\\\n",
    "LRLLRLLLRLLLLRLRRRRLR\n",
    "\n",
    "AAA = (BBB, CCC)\n",
    "BBB = (DDD, EEE)\n",
    "CCC = (ZZZ, GGG)\n",
    "DDD = (DDD, DDD)\n",
    "EEE = (EEE, EEE)\n",
    "GGG = (GGG, GGG)\n",
    "ZZZ = (ZZZ, ZZZ)\n",
    "TVP = (RLR, MQN)\n",
    "\"\"\""
   ]
  },
  {
   "cell_type": "code",
   "execution_count": 55,
   "metadata": {},
   "outputs": [
    {
     "data": {
      "text/plain": [
       "['BBB, CCC',\n",
       " 'DDD, EEE',\n",
       " 'ZZZ, GGG',\n",
       " 'DDD, DDD',\n",
       " 'EEE, EEE',\n",
       " 'GGG, GGG',\n",
       " 'ZZZ, ZZZ']"
      ]
     },
     "execution_count": 55,
     "metadata": {},
     "output_type": "execute_result"
    }
   ],
   "source": [
    "import re\n",
    "\n",
    "match = re.compile(r\"\\(([^)]+)\\)\")\n",
    "match.findall(i)"
   ]
  },
  {
   "cell_type": "code",
   "execution_count": 63,
   "metadata": {},
   "outputs": [],
   "source": [
    "e2 = re.compile(r\"([RL]+)\")"
   ]
  },
  {
   "cell_type": "code",
   "execution_count": 65,
   "metadata": {},
   "outputs": [
    {
     "data": {
      "text/plain": [
       "['LRLLRLLLRLLLLRLRRRRLR']"
      ]
     },
     "execution_count": 65,
     "metadata": {},
     "output_type": "execute_result"
    }
   ],
   "source": [
    "e2.findall(i)"
   ]
  },
  {
   "cell_type": "code",
   "execution_count": 14,
   "metadata": {},
   "outputs": [],
   "source": [
    "els = re.compile(r\"([A-Z]{3})\\s=\\s\\(([^)]+)\\)\")"
   ]
  },
  {
   "cell_type": "code",
   "execution_count": 17,
   "metadata": {},
   "outputs": [
    {
     "data": {
      "text/plain": [
       "({'AAA': 'BBB, CCC',\n",
       "  'BBB': 'DDD, EEE',\n",
       "  'CCC': 'ZZZ, GGG',\n",
       "  'DDD': 'DDD, DDD',\n",
       "  'EEE': 'EEE, EEE',\n",
       "  'GGG': 'GGG, GGG',\n",
       "  'ZZZ': 'ZZZ, ZZZ'},\n",
       " [('AAA', 'BBB, CCC'),\n",
       "  ('BBB', 'DDD, EEE'),\n",
       "  ('CCC', 'ZZZ, GGG'),\n",
       "  ('DDD', 'DDD, DDD'),\n",
       "  ('EEE', 'EEE, EEE'),\n",
       "  ('GGG', 'GGG, GGG'),\n",
       "  ('ZZZ', 'ZZZ, ZZZ')])"
      ]
     },
     "execution_count": 17,
     "metadata": {},
     "output_type": "execute_result"
    }
   ],
   "source": [
    "dict(els.findall(i)), els.findall(i)"
   ]
  },
  {
   "cell_type": "code",
   "execution_count": 20,
   "metadata": {},
   "outputs": [
    {
     "data": {
      "text/plain": [
       "{'AAA': ['BBB', 'CCC'],\n",
       " 'BBB': ['DDD', 'EEE'],\n",
       " 'CCC': ['ZZZ', 'GGG'],\n",
       " 'DDD': ['DDD', 'DDD'],\n",
       " 'EEE': ['EEE', 'EEE'],\n",
       " 'GGG': ['GGG', 'GGG'],\n",
       " 'ZZZ': ['ZZZ', 'ZZZ']}"
      ]
     },
     "execution_count": 20,
     "metadata": {},
     "output_type": "execute_result"
    }
   ],
   "source": [
    "d = {el[0]: el[1].split(\", \") for el in els.findall(i)}\n",
    "d"
   ]
  },
  {
   "cell_type": "code",
   "execution_count": 39,
   "metadata": {},
   "outputs": [],
   "source": [
    "sp = \"AAA\" \n",
    "instructions = \"RL\"\n",
    "i = 0\n",
    "while sp != \"ZZZ\":\n",
    "    ins = instructions[i % len(instructions)]\n",
    "    sp = d[sp][0 if ins == \"L\" else 1]\n",
    "    i+=1"
   ]
  },
  {
   "cell_type": "code",
   "execution_count": 40,
   "metadata": {},
   "outputs": [
    {
     "data": {
      "text/plain": [
       "('ZZZ', ['ZZZ', 'ZZZ'], 2)"
      ]
     },
     "execution_count": 40,
     "metadata": {},
     "output_type": "execute_result"
    }
   ],
   "source": [
    "sp, d[sp], i"
   ]
  },
  {
   "cell_type": "code",
   "execution_count": 34,
   "metadata": {},
   "outputs": [
    {
     "data": {
      "text/plain": [
       "'GGG'"
      ]
     },
     "execution_count": 34,
     "metadata": {},
     "output_type": "execute_result"
    }
   ],
   "source": [
    "d[sp][0 if ins == \"L\" else 1]"
   ]
  }
 ],
 "metadata": {
  "kernelspec": {
   "display_name": ".venv",
   "language": "python",
   "name": "python3"
  },
  "language_info": {
   "codemirror_mode": {
    "name": "ipython",
    "version": 3
   },
   "file_extension": ".py",
   "mimetype": "text/x-python",
   "name": "python",
   "nbconvert_exporter": "python",
   "pygments_lexer": "ipython3",
   "version": "3.10.12"
  }
 },
 "nbformat": 4,
 "nbformat_minor": 2
}
